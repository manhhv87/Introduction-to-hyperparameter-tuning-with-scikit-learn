{
  "nbformat": 4,
  "nbformat_minor": 0,
  "metadata": {
    "colab": {
      "name": "Experiment.ipynb",
      "provenance": [],
      "authorship_tag": "ABX9TyOmJXkM4jcLwPf1Hz1zC8aj",
      "include_colab_link": true
    },
    "kernelspec": {
      "name": "python3",
      "display_name": "Python 3"
    },
    "language_info": {
      "name": "python"
    }
  },
  "cells": [
    {
      "cell_type": "markdown",
      "metadata": {
        "id": "view-in-github",
        "colab_type": "text"
      },
      "source": [
        "<a href=\"https://colab.research.google.com/github/manhhv87/Introduction-to-hyperparameter-tuning-with-scikit-learn/blob/main/Experiment.ipynb\" target=\"_parent\"><img src=\"https://colab.research.google.com/assets/colab-badge.svg\" alt=\"Open In Colab\"/></a>"
      ]
    },
    {
      "cell_type": "code",
      "metadata": {
        "colab": {
          "base_uri": "https://localhost:8080/"
        },
        "id": "UiIC3Ba55h8h",
        "outputId": "8caa199d-b788-4208-bc0b-8faad239bc40"
      },
      "source": [
        "!git clone https://github.com/manhhv87/Introduction-to-hyperparameter-tuning-with-scikit-learn.git"
      ],
      "execution_count": 1,
      "outputs": [
        {
          "output_type": "stream",
          "name": "stdout",
          "text": [
            "Cloning into 'Introduction-to-hyperparameter-tuning-with-scikit-learn'...\n",
            "remote: Enumerating objects: 32, done.\u001b[K\n",
            "remote: Counting objects: 100% (32/32), done.\u001b[K\n",
            "remote: Compressing objects: 100% (22/22), done.\u001b[K\n",
            "remote: Total 32 (delta 7), reused 17 (delta 3), pack-reused 0\u001b[K\n",
            "Unpacking objects: 100% (32/32), done.\n"
          ]
        }
      ]
    },
    {
      "cell_type": "code",
      "metadata": {
        "colab": {
          "base_uri": "https://localhost:8080/"
        },
        "id": "svmUDEfO5otM",
        "outputId": "f35a06c7-1e29-4f8d-c334-2cb8eb010d63"
      },
      "source": [
        "%cd /content/Introduction-to-hyperparameter-tuning-with-scikit-learn"
      ],
      "execution_count": 2,
      "outputs": [
        {
          "output_type": "stream",
          "name": "stdout",
          "text": [
            "/content/Introduction-to-hyperparameter-tuning-with-scikit-learn\n"
          ]
        }
      ]
    },
    {
      "cell_type": "code",
      "metadata": {
        "colab": {
          "base_uri": "https://localhost:8080/"
        },
        "id": "jO07XgUZ5mLZ",
        "outputId": "15913733-81ca-4ce8-8530-0efed79fd45c"
      },
      "source": [
        "!time python3 train_svr.py"
      ],
      "execution_count": 3,
      "outputs": [
        {
          "output_type": "stream",
          "name": "stdout",
          "text": [
            "[INFO] loading data...\n",
            "[INFO] training our support vector regression model\n",
            "[INFO] evaluating...\n",
            "R2: 0.55\n",
            "\n",
            "real\t0m1.872s\n",
            "user\t0m1.493s\n",
            "sys\t0m0.371s\n"
          ]
        }
      ]
    },
    {
      "cell_type": "code",
      "metadata": {
        "colab": {
          "base_uri": "https://localhost:8080/"
        },
        "id": "BOV2lMUFRlPF",
        "outputId": "89b294ba-da42-4a32-9196-76564492e4f1"
      },
      "source": [
        "!time python3 train_svr_grid.py"
      ],
      "execution_count": 4,
      "outputs": [
        {
          "output_type": "stream",
          "name": "stdout",
          "text": [
            "[INFO] loading data...\n",
            "[INFO] grid searching over the hyperparameters...\n",
            "[INFO] evaluating...\n",
            "R2: 0.56\n",
            "\n",
            "real\t17m16.434s\n",
            "user\t33m49.774s\n",
            "sys\t0m2.921s\n"
          ]
        }
      ]
    },
    {
      "cell_type": "code",
      "metadata": {
        "colab": {
          "base_uri": "https://localhost:8080/"
        },
        "id": "6PgcuZlRRqHg",
        "outputId": "5552fef8-bc66-4ebe-8b03-c16128698b16"
      },
      "source": [
        "!time python3 train_svr_random.py"
      ],
      "execution_count": 5,
      "outputs": [
        {
          "output_type": "stream",
          "name": "stdout",
          "text": [
            "[INFO] loading data...\n",
            "[INFO] grid searching over the hyperparameters...\n",
            "[INFO] evaluating...\n",
            "R2: 0.56\n",
            "\n",
            "real\t2m21.999s\n",
            "user\t4m35.776s\n",
            "sys\t0m1.047s\n"
          ]
        }
      ]
    }
  ]
}